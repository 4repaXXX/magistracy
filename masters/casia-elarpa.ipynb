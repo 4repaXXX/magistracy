{
 "cells": [
  {
   "cell_type": "code",
   "execution_count": 1,
   "id": "f18df133-6580-4b11-95f2-a4d152357500",
   "metadata": {
    "tags": []
   },
   "outputs": [],
   "source": [
    "import numpy as np\n",
    "import cv2\n",
    "import os\n",
    "from sklearn import preprocessing\n",
    "from sklearn.model_selection import train_test_split, GridSearchCV"
   ]
  },
  {
   "cell_type": "code",
   "execution_count": null,
   "id": "aa2308c7-df16-48cf-8533-d23f37e410f8",
   "metadata": {},
   "outputs": [],
   "source": [
    "def ela(imagePath, scale=10, quality=90):\n",
    "    \"\"\"\n",
    "    Performs Error Level Analysis (ELA) on an image.\n",
    "    imagePath (str) - the path to the image file.\n",
    "    scale (int) - the scale factor for resizing the image. Default is 10.\n",
    "\n",
    "    Returns:\n",
    "        elaImage (np.array) - the ELA image.\n",
    "    \"\"\"\n",
    "    # Load the image\n",
    "    image = cv2.imread(imagePath)\n",
    "\n",
    "    # Resize the image\n",
    "    resizedImage = cv2.resize(image, (scale, scale))\n",
    "\n",
    "    # Convert the image to JPEG\n",
    "    cv2.imwrite(\"temp.jpg\", resizedImage, [cv2.IMWRITE_JPEG_QUALITY, quality])\n",
    "\n",
    "    # Load the JPEG image and compute the ELA image\n",
    "    elaImage = cv2.imread(\"temp.jpg\")\n",
    "    elaImage = cv2.absdiff(resizedImage, elaImage)\n",
    "    elaImage = cv2.cvtColor(elaImage, cv2.COLOR_BGR2GRAY)\n",
    "\n",
    "    return elaImage"
   ]
  }
 ],
 "metadata": {
  "kernelspec": {
   "display_name": "Python 3 (ipykernel)",
   "language": "python",
   "name": "python3"
  },
  "language_info": {
   "codemirror_mode": {
    "name": "ipython",
    "version": 3
   },
   "file_extension": ".py",
   "mimetype": "text/x-python",
   "name": "python",
   "nbconvert_exporter": "python",
   "pygments_lexer": "ipython3",
   "version": "3.11.5"
  }
 },
 "nbformat": 4,
 "nbformat_minor": 5
}
