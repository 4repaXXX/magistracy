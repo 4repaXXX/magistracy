{
 "cells": [
  {
   "cell_type": "code",
   "execution_count": 14,
   "id": "ad71f3ee-0f0b-45e6-a754-ed893d8deaaa",
   "metadata": {},
   "outputs": [],
   "source": [
    "import os\n",
    "import numpy as np\n",
    "from keras.models import Model\n",
    "import matplotlib.pyplot as plt\n",
    "from tensorflow.keras.preprocessing.image import ImageDataGenerator\n",
    "from tensorflow.keras.applications import ResNet50\n",
    "from tensorflow.keras import layers\n",
    "from tensorflow.keras import models\n",
    "from tensorflow.keras import optimizers\n",
    "from sklearn.model_selection import train_test_split\n",
    "from tensorflow.keras.preprocessing.image import ImageDataGenerator\n",
    "from keras.preprocessing import image\n",
    "from keras.applications.vgg16 import VGG16, preprocess_input\n",
    "from keras.layers import Dense, GlobalAveragePooling2D\n",
    "from PIL import Image, ImageChops, ImageEnhance\n",
    "import cv2"
   ]
  },
  {
   "cell_type": "code",
   "execution_count": null,
   "id": "5e8586be-9028-419e-ae40-cd04cbb00ab7",
   "metadata": {},
   "outputs": [],
   "source": [
    "def convert_to_ela_image(path, quality):\n",
    "    temp_filename = 'temp.jpg'\n",
    "    image = Image.open(path).convert('RGB')\n",
    "    image.save(temp_filename, 'JPEG', quality = quality)\n",
    "    temp_image = Image.open(temp_filename)\n",
    "    ela_image = ImageChops.difference(image, temp_image)\n",
    "    extrema = ela_image.getextrema()\n",
    "    max_diff = max([ex[1] for ex in extrema])\n",
    "    if max_diff == 0:\n",
    "        max_diff = 1\n",
    "    scale = 255.0 / max_diff\n",
    "    ela_image = ImageEnhance.Brightness(ela_image).enhance(scale)\n",
    "    return ela_image"
   ]
  },
  {
   "cell_type": "code",
   "execution_count": 18,
   "id": "5cc73ebe-f3d4-4032-a7eb-ef315b16f428",
   "metadata": {},
   "outputs": [],
   "source": [
    "def prepare_image(image_path):\n",
    "    return np.array(convert_to_ela_image(image_path, 90).resize(image_size)).flatten() / 255.0"
   ]
  },
  {
   "cell_type": "code",
   "execution_count": 20,
   "id": "5879aaeb-fb2b-49bb-9db3-5942edac906c",
   "metadata": {},
   "outputs": [],
   "source": [
    "image_size = (224, 224)\n",
    "X = []\n",
    "y = []"
   ]
  },
  {
   "cell_type": "code",
   "execution_count": null,
   "id": "49f3fe4c-4597-4338-b4c6-1cd4448deeaf",
   "metadata": {},
   "outputs": [],
   "source": [
    "# Define source paths\n",
    "authentic = 'data/casia/au/'\n",
    "tampered = 'data/casia/tp/'"
   ]
  },
  {
   "cell_type": "code",
   "execution_count": null,
   "id": "9a120f5f-dd07-411c-9440-55240cbef640",
   "metadata": {},
   "outputs": [],
   "source": [
    "print(os.walk(path))\n",
    "for root, dirs, files in os.walk(path):\n",
    "  for filename in files:\n",
    "    file_path = os.path.join(root, filename)\n",
    "    if filename.lower().endswith(('jpg', 'png')):\n",
    "      X.append(prepare_image(file_path))\n",
    "      y.append(1)\n",
    "    if len(X)==3000:\n",
    "        break\n",
    "\n",
    "random.shuffle(X)\n",
    "\n",
    "print(len(X), len(y))"
   ]
  }
 ],
 "metadata": {
  "kernelspec": {
   "display_name": "Python [conda env:base] *",
   "language": "python",
   "name": "conda-base-py"
  },
  "language_info": {
   "codemirror_mode": {
    "name": "ipython",
    "version": 3
   },
   "file_extension": ".py",
   "mimetype": "text/x-python",
   "name": "python",
   "nbconvert_exporter": "python",
   "pygments_lexer": "ipython3",
   "version": "3.11.5"
  }
 },
 "nbformat": 4,
 "nbformat_minor": 5
}
