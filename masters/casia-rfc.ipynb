{
 "cells": [
  {
   "cell_type": "markdown",
   "id": "e8010fdc-8948-4af4-9553-e02c0d1496e7",
   "metadata": {},
   "source": [
    "## Random Forest Classifier"
   ]
  },
  {
   "cell_type": "code",
   "execution_count": 4,
   "id": "ebadca82-2514-46ac-b201-df736e583dae",
   "metadata": {},
   "outputs": [],
   "source": [
    "import numpy as np\n",
    "import cv2\n",
    "import os\n",
    "from sklearn import preprocessing\n",
    "from sklearn.model_selection import train_test_split, GridSearchCV\n",
    "from sklearn.ensemble import RandomForestClassifier\n",
    "from sklearn.model_selection import train_test_split\n",
    "from sklearn.metrics import classification_report"
   ]
  },
  {
   "cell_type": "code",
   "execution_count": 37,
   "id": "8364ce3e-a470-4025-8938-74941b7efa2a",
   "metadata": {},
   "outputs": [],
   "source": [
    "def show_images(image):\n",
    "    \"\"\"\n",
    "    image - image to be shown\n",
    "    \"\"\"\n",
    "\n",
    "    fig, axes = plt.subplots(2, 4, figsize=(10, 6))\n",
    "\n",
    "    for i, ax in enumerate(axes.flatten()):\n",
    "        ax.imshow(image)\n",
    "        ax.set_title(image_files[i][:10])  # Set the title as the image filename\n",
    "        ax.axis('off')  # Turn off axis labels\n",
    "\n",
    "    # Adjust the spacing between subplots\n",
    "    plt.tight_layout()\n",
    "\n",
    "    # Show the plot\n",
    "    plt.show()"
   ]
  },
  {
   "cell_type": "code",
   "execution_count": 10,
   "id": "8f55f033-af0f-40cd-8fd2-ddf90e0f109f",
   "metadata": {},
   "outputs": [],
   "source": [
    "def ela(imagePath, scale=10, quality=90):\n",
    "    \"\"\"\n",
    "    Performs Error Level Analysis (ELA) on an image.\n",
    "    imagePath (str) - the path to the image file.\n",
    "    scale (int) - the scale factor for resizing the image. Default is 10.\n",
    "\n",
    "    Returns:\n",
    "        elaImage (np.array) - the ELA image.\n",
    "    \"\"\"\n",
    "    # Load the image\n",
    "    image = cv2.imread(imagePath)\n",
    "\n",
    "    # Resize the image\n",
    "    resizedImage = cv2.resize(image, (scale, scale))\n",
    "\n",
    "    # Convert the image to JPEG\n",
    "    cv2.imwrite(\"temp.jpg\", resizedImage, [cv2.IMWRITE_JPEG_QUALITY, quality])\n",
    "\n",
    "    # Load the JPEG image and compute the ELA image\n",
    "    elaImage = cv2.imread(\"temp.jpg\")\n",
    "    elaImage = cv2.absdiff(resizedImage, elaImage)\n",
    "    elaImage = cv2.cvtColor(elaImage, cv2.COLOR_BGR2GRAY)\n",
    "\n",
    "    return elaImage"
   ]
  },
  {
   "cell_type": "code",
   "execution_count": 12,
   "id": "b532b0ef-0fd0-4246-84b7-1845cfe8a57c",
   "metadata": {},
   "outputs": [],
   "source": [
    "def extract_features(elaImage):\n",
    "    features = []\n",
    "    features.append(np.mean(elaImage))\n",
    "    features.append(np.std(elaImage))\n",
    "    features.append(np.var(elaImage))\n",
    "    \n",
    "    # Histogram features\n",
    "    hist = cv2.calcHist([elaImage], [0], None, [256], [0, 256])\n",
    "    features.extend(hist.flatten()[:10])\n",
    "\n",
    "    return np.array(features)\n"
   ]
  },
  {
   "cell_type": "code",
   "execution_count": 16,
   "id": "84d23ba6-f6d2-4cf1-9757-489f4ccd40d4",
   "metadata": {},
   "outputs": [],
   "source": [
    "authentic = 'data/casia/au/'\n",
    "tampered = 'data/casia/tp/'"
   ]
  },
  {
   "cell_type": "code",
   "execution_count": 44,
   "id": "559c3c4d-2b13-467c-8ee8-5dc060e7581e",
   "metadata": {},
   "outputs": [],
   "source": [
    "# Mix photos\n",
    "X = list()\n",
    "Y = list()\n",
    "for files in os.listdir(authentic):\n",
    "    X.append(authentic+files)\n",
    "    Y.append('Au')\n",
    "for files in os.listdir(tampered):\n",
    "    X.append(tampered+files)\n",
    "    Y.append('Tp')\n",
    "    \n",
    "le = preprocessing.LabelEncoder()\n",
    "y = le.fit_transform(Y)"
   ]
  },
  {
   "cell_type": "code",
   "execution_count": 48,
   "id": "85497802-b1a9-4a7b-bd8e-031745520cae",
   "metadata": {},
   "outputs": [
    {
     "name": "stdout",
     "output_type": "stream",
     "text": [
      "              precision    recall  f1-score   support\n",
      "\n",
      "           0       0.50      0.33      0.40        12\n",
      "           1       0.38      0.56      0.45         9\n",
      "\n",
      "    accuracy                           0.43        21\n",
      "   macro avg       0.44      0.44      0.43        21\n",
      "weighted avg       0.45      0.43      0.42        21\n",
      "\n"
     ]
    }
   ],
   "source": [
    "X_a = []\n",
    "y_a = []\n",
    "for i, img_path in enumerate(X):\n",
    "    ela_img = ela(img_path, scale=10, quality=90)\n",
    "    features = extract_features(ela_img)\n",
    "    X_a.append(features)\n",
    "    y_a.append(y[i])  # Label: genuine (0) or tampered (1)\n",
    "\n",
    "# Train-test split\n",
    "X_train, X_test, y_train, y_test = train_test_split(X_a, y_a, test_size=0.2, random_state=42)\n",
    "\n",
    "clf = RandomForestClassifier(n_estimators=100, random_state=42)\n",
    "clf.fit(X_train, y_train)\n",
    "\n",
    "# Evaluate\n",
    "y_pred = clf.predict(X_test)\n",
    "print(classification_report(y_test, y_pred))\n"
   ]
  }
 ],
 "metadata": {
  "kernelspec": {
   "display_name": "Python 3 (ipykernel)",
   "language": "python",
   "name": "python3"
  },
  "language_info": {
   "codemirror_mode": {
    "name": "ipython",
    "version": 3
   },
   "file_extension": ".py",
   "mimetype": "text/x-python",
   "name": "python",
   "nbconvert_exporter": "python",
   "pygments_lexer": "ipython3",
   "version": "3.11.5"
  }
 },
 "nbformat": 4,
 "nbformat_minor": 5
}
